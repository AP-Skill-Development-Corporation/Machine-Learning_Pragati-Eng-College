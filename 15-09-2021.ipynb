{
 "cells": [
  {
   "cell_type": "code",
   "execution_count": 1,
   "metadata": {},
   "outputs": [
    {
     "data": {
      "text/plain": [
       "16"
      ]
     },
     "execution_count": 1,
     "metadata": {},
     "output_type": "execute_result"
    }
   ],
   "source": [
    "2**4"
   ]
  },
  {
   "cell_type": "code",
   "execution_count": 3,
   "metadata": {},
   "outputs": [],
   "source": [
    "#hello everyone"
   ]
  },
  {
   "cell_type": "markdown",
   "metadata": {},
   "source": [
    "Creating Heading using #\n",
    "\n",
    "# Welcome to ML\n",
    "## Welcome to ML\n",
    "### Welcome to ML\n",
    "###### Welcome\n",
    "\n",
    "Text: Hello welcome to all for ML workshop\n",
    "\n",
    "### Document points\n",
    "\n",
    "* One\n",
    "* Two\n",
    "* Three\n",
    "* Four\n",
    "    * sub one\n",
    "    * sub two\n",
    "        * thired sub in two\n",
    "        * third sub in two\n",
    "    * sub three\n",
    "    \n",
    "\n",
    "\n",
    "### Order list\n",
    "\n",
    "1. one\n",
    "2. two\n",
    "    1. three\n",
    "    2. four\n",
    "        1. five\n",
    "        2. six\n",
    "\n",
    "\n",
    "### Image\n",
    "\n",
    "<img src='mlimg.jpg' height=200px width=300px>\n",
    "\n",
    "![img](mlimg.jpg)\n",
    "\n",
    "### Links\n",
    "\n",
    "Pragati college [Link](https://pragati.ac.in/)\n",
    "\n",
    "\n",
    "\n",
    "### code\n",
    "\n",
    "```\n",
    "a=10\n",
    "b=20\n",
    "c=a+b\n",
    "print(c)\n",
    "\n",
    "```\n",
    "\n",
    "Hello welcome to all\n",
    "> Hello welcome to all "
   ]
  },
  {
   "cell_type": "markdown",
   "metadata": {},
   "source": [
    "### Yesterday topics:\n",
    "\n",
    "* Introduction about ML\n",
    "* Types of ML\n",
    "* Learning Path of ML\n",
    "* Terminology in Dataset\n",
    "* Python -> Data Analysis -> ML\n",
    "* Numpy,Pandas, Matplotlib"
   ]
  },
  {
   "cell_type": "markdown",
   "metadata": {},
   "source": [
    "### Today Objectives:\n",
    "\n",
    "* Numpy"
   ]
  },
  {
   "cell_type": "markdown",
   "metadata": {},
   "source": [
    "### Numpy:\n",
    "\n",
    "* Numpy stands for numarical python\n",
    "* Numpy is used for scientific calculating on data\n",
    "* Numpy is a python lib for calculating on data\n",
    "* Numpy is a better than list"
   ]
  },
  {
   "cell_type": "code",
   "execution_count": 4,
   "metadata": {},
   "outputs": [
    {
     "data": {
      "text/plain": [
       "array(['1', '2', '3', 'string', '4.5', 'True', '(2+3j)'], dtype='<U11')"
      ]
     },
     "execution_count": 4,
     "metadata": {},
     "output_type": "execute_result"
    }
   ],
   "source": [
    "# create numpy array\n",
    "import numpy as np\n",
    "\n",
    "a=np.array([1,2,3,\"string\",4.5,True,2+3j])\n",
    "a"
   ]
  },
  {
   "cell_type": "code",
   "execution_count": 7,
   "metadata": {},
   "outputs": [
    {
     "data": {
      "text/plain": [
       "array({1, 2, 3, 4, 5}, dtype=object)"
      ]
     },
     "execution_count": 7,
     "metadata": {},
     "output_type": "execute_result"
    }
   ],
   "source": [
    "#s={1,2,3,4,5}\n",
    "a=np.array({1,2,3,4,5})\n",
    "a"
   ]
  },
  {
   "cell_type": "code",
   "execution_count": 6,
   "metadata": {},
   "outputs": [
    {
     "data": {
      "text/plain": [
       "array([10, 20, 30, 40])"
      ]
     },
     "execution_count": 6,
     "metadata": {},
     "output_type": "execute_result"
    }
   ],
   "source": [
    "t=(10,20,30,40)\n",
    "a=np.array(t)\n",
    "a"
   ]
  },
  {
   "cell_type": "code",
   "execution_count": 8,
   "metadata": {},
   "outputs": [
    {
     "data": {
      "text/plain": [
       "'1.19.5'"
      ]
     },
     "execution_count": 8,
     "metadata": {},
     "output_type": "execute_result"
    }
   ],
   "source": [
    "# find version of numpy\n",
    "np.__version__"
   ]
  },
  {
   "cell_type": "code",
   "execution_count": 10,
   "metadata": {},
   "outputs": [
    {
     "name": "stdout",
     "output_type": "stream",
     "text": [
      "a numpy array [1 2 3 4 5]\n",
      "b numpy array [10 20 30 40 50]\n",
      "addition of a and b [11 22 33 44 55]\n"
     ]
    }
   ],
   "source": [
    "# create numpy array\n",
    "\n",
    "a=np.array([1,2,3,4,5])\n",
    "b=np.array([10,20,30,40,50])\n",
    "print(\"a numpy array\",a)\n",
    "print(\"b numpy array\",b)\n",
    "print(\"addition of a and b\",a+b)"
   ]
  },
  {
   "cell_type": "code",
   "execution_count": 11,
   "metadata": {},
   "outputs": [
    {
     "name": "stdout",
     "output_type": "stream",
     "text": [
      "a array [1, 2, 3, 4, 5]\n",
      "b array [10, 20, 30, 40, 50]\n",
      "addition of a and b [1, 2, 3, 4, 5, 10, 20, 30, 40, 50]\n"
     ]
    }
   ],
   "source": [
    "# list\n",
    "a=[1,2,3,4,5]\n",
    "b=[10,20,30,40,50]\n",
    "print(\"a array\",a)\n",
    "print(\"b array\",b)\n",
    "print(\"addition of a and b\",a+b)"
   ]
  },
  {
   "cell_type": "code",
   "execution_count": 12,
   "metadata": {},
   "outputs": [
    {
     "name": "stdout",
     "output_type": "stream",
     "text": [
      "a array [1, 2, 3, 4, 5]\n",
      "b array [10, 20, 30, 40, 50]\n"
     ]
    },
    {
     "ename": "TypeError",
     "evalue": "can't multiply sequence by non-int of type 'list'",
     "output_type": "error",
     "traceback": [
      "\u001b[1;31m---------------------------------------------------------------------------\u001b[0m",
      "\u001b[1;31mTypeError\u001b[0m                                 Traceback (most recent call last)",
      "\u001b[1;32m<ipython-input-12-b535f408c98a>\u001b[0m in \u001b[0;36m<module>\u001b[1;34m\u001b[0m\n\u001b[0;32m      4\u001b[0m \u001b[0mprint\u001b[0m\u001b[1;33m(\u001b[0m\u001b[1;34m\"a array\"\u001b[0m\u001b[1;33m,\u001b[0m\u001b[0ma\u001b[0m\u001b[1;33m)\u001b[0m\u001b[1;33m\u001b[0m\u001b[1;33m\u001b[0m\u001b[0m\n\u001b[0;32m      5\u001b[0m \u001b[0mprint\u001b[0m\u001b[1;33m(\u001b[0m\u001b[1;34m\"b array\"\u001b[0m\u001b[1;33m,\u001b[0m\u001b[0mb\u001b[0m\u001b[1;33m)\u001b[0m\u001b[1;33m\u001b[0m\u001b[1;33m\u001b[0m\u001b[0m\n\u001b[1;32m----> 6\u001b[1;33m \u001b[0mprint\u001b[0m\u001b[1;33m(\u001b[0m\u001b[1;34m\"addition of a and b\"\u001b[0m\u001b[1;33m,\u001b[0m\u001b[0ma\u001b[0m\u001b[1;33m*\u001b[0m\u001b[0mb\u001b[0m\u001b[1;33m)\u001b[0m\u001b[1;33m\u001b[0m\u001b[1;33m\u001b[0m\u001b[0m\n\u001b[0m",
      "\u001b[1;31mTypeError\u001b[0m: can't multiply sequence by non-int of type 'list'"
     ]
    }
   ],
   "source": [
    "# list\n",
    "a=[1,2,3,4,5]\n",
    "b=[10,20,30,40,50]\n",
    "print(\"a array\",a)\n",
    "print(\"b array\",b)\n",
    "print(\"addition of a and b\",a*b)"
   ]
  },
  {
   "cell_type": "code",
   "execution_count": 14,
   "metadata": {},
   "outputs": [
    {
     "name": "stdout",
     "output_type": "stream",
     "text": [
      "a array [1 2 3 4 5]\n",
      "b array [10 20 30 40 50]\n",
      "multiplication of a and b [ 10  40  90 160 250]\n"
     ]
    }
   ],
   "source": [
    "# numpy\n",
    "a=np.array([1,2,3,4,5])\n",
    "b=np.array([10,20,30,40,50])\n",
    "print(\"a array\",a)\n",
    "print(\"b array\",b)\n",
    "print(\"multiplication of a and b\",a*b)"
   ]
  },
  {
   "cell_type": "code",
   "execution_count": null,
   "metadata": {},
   "outputs": [],
   "source": []
  }
 ],
 "metadata": {
  "kernelspec": {
   "display_name": "Python 3",
   "language": "python",
   "name": "python3"
  },
  "language_info": {
   "codemirror_mode": {
    "name": "ipython",
    "version": 3
   },
   "file_extension": ".py",
   "mimetype": "text/x-python",
   "name": "python",
   "nbconvert_exporter": "python",
   "pygments_lexer": "ipython3",
   "version": "3.7.3"
  }
 },
 "nbformat": 4,
 "nbformat_minor": 2
}
