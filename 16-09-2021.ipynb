{
 "cells": [
  {
   "cell_type": "markdown",
   "metadata": {},
   "source": [
    "### Today Objective:\n",
    "\n",
    "* Numpy"
   ]
  },
  {
   "cell_type": "code",
   "execution_count": 1,
   "metadata": {},
   "outputs": [
    {
     "data": {
      "text/plain": [
       "array([10, 20, 30, 40, 50])"
      ]
     },
     "execution_count": 1,
     "metadata": {},
     "output_type": "execute_result"
    }
   ],
   "source": [
    "import numpy as np\n",
    "a=np.array([10,20,30,40,50])\n",
    "a"
   ]
  },
  {
   "cell_type": "code",
   "execution_count": 2,
   "metadata": {},
   "outputs": [
    {
     "data": {
      "text/plain": [
       "array([10, 20, 30, 40, 50])"
      ]
     },
     "execution_count": 2,
     "metadata": {},
     "output_type": "execute_result"
    }
   ],
   "source": [
    "a=np.array((10,20,30,40,50))\n",
    "a"
   ]
  },
  {
   "cell_type": "code",
   "execution_count": 3,
   "metadata": {},
   "outputs": [
    {
     "data": {
      "text/plain": [
       "array({40, 10, 50, 20, 30}, dtype=object)"
      ]
     },
     "execution_count": 3,
     "metadata": {},
     "output_type": "execute_result"
    }
   ],
   "source": [
    "a=np.array({10,20,30,40,50})\n",
    "a"
   ]
  },
  {
   "cell_type": "code",
   "execution_count": 13,
   "metadata": {},
   "outputs": [
    {
     "name": "stdout",
     "output_type": "stream",
     "text": [
      "numpy array is: [10 20 30 40 50]\n",
      "array shape is: (5,)\n",
      "array length is: 5\n",
      "dimentions of array is:  1\n",
      "type of array is:  int32\n"
     ]
    }
   ],
   "source": [
    "a=np.array([10,20,30,40,50])\n",
    "print(\"numpy array is:\",a)\n",
    "print(\"array shape is:\",a.shape)\n",
    "print(\"array length is:\",len(a))\n",
    "print(\"dimentions of array is: \",a.ndim)\n",
    "print(\"type of array is: \",a.dtype)"
   ]
  },
  {
   "cell_type": "code",
   "execution_count": 14,
   "metadata": {},
   "outputs": [
    {
     "name": "stdout",
     "output_type": "stream",
     "text": [
      "numpy array is: [10.3  20.5  30.7  40.9  50.99 23.5 ]\n",
      "array shape is: (6,)\n",
      "array length is: 6\n",
      "dimentions of array is:  1\n",
      "type of array is:  float64\n"
     ]
    }
   ],
   "source": [
    "a=np.array([10.3,20.5,30.7,40.9,50.99,23.5])\n",
    "print(\"numpy array is:\",a)\n",
    "print(\"array shape is:\",a.shape)\n",
    "print(\"array length is:\",len(a))\n",
    "print(\"dimentions of array is: \",a.ndim)\n",
    "print(\"type of array is: \",a.dtype)"
   ]
  },
  {
   "cell_type": "code",
   "execution_count": 15,
   "metadata": {},
   "outputs": [
    {
     "name": "stdout",
     "output_type": "stream",
     "text": [
      "numpy array is: [10.   20.   30.7  40.   50.99 23.  ]\n",
      "array shape is: (6,)\n",
      "array length is: 6\n",
      "dimentions of array is:  1\n",
      "type of array is:  float64\n"
     ]
    }
   ],
   "source": [
    "a=np.array([10,20,30.7,40,50.99,23])\n",
    "print(\"numpy array is:\",a)\n",
    "print(\"array shape is:\",a.shape)\n",
    "print(\"array length is:\",len(a))\n",
    "print(\"dimentions of array is: \",a.ndim)\n",
    "print(\"type of array is: \",a.dtype)"
   ]
  },
  {
   "cell_type": "code",
   "execution_count": 16,
   "metadata": {},
   "outputs": [
    {
     "name": "stdout",
     "output_type": "stream",
     "text": [
      "numpy array is: ['a' 'b' 'c']\n",
      "array shape is: (3,)\n",
      "array length is: 3\n",
      "dimentions of array is:  1\n",
      "type of array is:  <U1\n"
     ]
    }
   ],
   "source": [
    "a=np.array([\"a\",\"b\",\"c\"])\n",
    "print(\"numpy array is:\",a)\n",
    "print(\"array shape is:\",a.shape)\n",
    "print(\"array length is:\",len(a))\n",
    "print(\"dimentions of array is: \",a.ndim)\n",
    "print(\"type of array is: \",a.dtype)"
   ]
  },
  {
   "cell_type": "code",
   "execution_count": 17,
   "metadata": {},
   "outputs": [
    {
     "name": "stdout",
     "output_type": "stream",
     "text": [
      "numpy array is: ['a' 'b' 'c' '10' '20' '30' '40']\n",
      "array shape is: (7,)\n",
      "array length is: 7\n",
      "dimentions of array is:  1\n",
      "type of array is:  <U2\n"
     ]
    }
   ],
   "source": [
    "a=np.array([\"a\",\"b\",\"c\",10,20,30,40])\n",
    "print(\"numpy array is:\",a)\n",
    "print(\"array shape is:\",a.shape)\n",
    "print(\"array length is:\",len(a))\n",
    "print(\"dimentions of array is: \",a.ndim)\n",
    "print(\"type of array is: \",a.dtype)"
   ]
  },
  {
   "cell_type": "code",
   "execution_count": 18,
   "metadata": {},
   "outputs": [
    {
     "name": "stdout",
     "output_type": "stream",
     "text": [
      "numpy array is: ['a' 'b' 'c' '10' '20' '30' '40' '12.4' '34.5']\n",
      "array shape is: (9,)\n",
      "array length is: 9\n",
      "dimentions of array is:  1\n",
      "type of array is:  <U4\n"
     ]
    }
   ],
   "source": [
    "a=np.array([\"a\",\"b\",\"c\",10,20,30,40,12.4,34.5])\n",
    "print(\"numpy array is:\",a)\n",
    "print(\"array shape is:\",a.shape)\n",
    "print(\"array length is:\",len(a))\n",
    "print(\"dimentions of array is: \",a.ndim)\n",
    "print(\"type of array is: \",a.dtype)"
   ]
  },
  {
   "cell_type": "code",
   "execution_count": 19,
   "metadata": {},
   "outputs": [
    {
     "name": "stdout",
     "output_type": "stream",
     "text": [
      "numpy array is: ['a' 'b' 'c' '10' '20' '30' '40' '12.4' '34.5' 'True' 'False']\n",
      "array shape is: (11,)\n",
      "array length is: 11\n",
      "dimentions of array is:  1\n",
      "type of array is:  <U5\n"
     ]
    }
   ],
   "source": [
    "a=np.array([\"a\",\"b\",\"c\",10,20,30,40,12.4,34.5,True,False])\n",
    "print(\"numpy array is:\",a)\n",
    "print(\"array shape is:\",a.shape)\n",
    "print(\"array length is:\",len(a))\n",
    "print(\"dimentions of array is: \",a.ndim)\n",
    "print(\"type of array is: \",a.dtype)"
   ]
  },
  {
   "cell_type": "code",
   "execution_count": 20,
   "metadata": {},
   "outputs": [
    {
     "name": "stdout",
     "output_type": "stream",
     "text": [
      "numpy array is: ['a' 'b' 'c' '10' '20' '30' '40' '12.4' '34.5' 'True' 'False' '(3+2j)']\n",
      "array shape is: (12,)\n",
      "array length is: 12\n",
      "dimentions of array is:  1\n",
      "type of array is:  <U6\n"
     ]
    }
   ],
   "source": [
    "a=np.array([\"a\",\"b\",\"c\",10,20,30,40,12.4,34.5,True,False,3+2j])\n",
    "print(\"numpy array is:\",a)\n",
    "print(\"array shape is:\",a.shape)\n",
    "print(\"array length is:\",len(a))\n",
    "print(\"dimentions of array is: \",a.ndim)\n",
    "print(\"type of array is: \",a.dtype)"
   ]
  },
  {
   "cell_type": "code",
   "execution_count": 21,
   "metadata": {},
   "outputs": [
    {
     "name": "stdout",
     "output_type": "stream",
     "text": [
      "numpy array is: [ True False  True False]\n",
      "array shape is: (4,)\n",
      "array length is: 4\n",
      "dimentions of array is:  1\n",
      "type of array is:  bool\n"
     ]
    }
   ],
   "source": [
    "a=np.array([True,False,True,False])\n",
    "print(\"numpy array is:\",a)\n",
    "print(\"array shape is:\",a.shape)\n",
    "print(\"array length is:\",len(a))\n",
    "print(\"dimentions of array is: \",a.ndim)\n",
    "print(\"type of array is: \",a.dtype)"
   ]
  },
  {
   "cell_type": "code",
   "execution_count": 22,
   "metadata": {},
   "outputs": [
    {
     "name": "stdout",
     "output_type": "stream",
     "text": [
      "numpy array is: [3.+2.j 4.+7.j 5.+3.j]\n",
      "array shape is: (3,)\n",
      "array length is: 3\n",
      "dimentions of array is:  1\n",
      "type of array is:  complex128\n"
     ]
    }
   ],
   "source": [
    "a=np.array([3+2j,4+7j,5+3j])\n",
    "print(\"numpy array is:\",a)\n",
    "print(\"array shape is:\",a.shape)\n",
    "print(\"array length is:\",len(a))\n",
    "print(\"dimentions of array is: \",a.ndim)\n",
    "print(\"type of array is: \",a.dtype)"
   ]
  },
  {
   "cell_type": "markdown",
   "metadata": {},
   "source": [
    "* 1D array => Vector\n",
    "* 2D array => Matrix\n",
    "* 3D,4D,5D.....nd  => Multi Dimentional"
   ]
  },
  {
   "cell_type": "code",
   "execution_count": 25,
   "metadata": {},
   "outputs": [
    {
     "name": "stdout",
     "output_type": "stream",
     "text": [
      "[[10 20]\n",
      " [30 40]\n",
      " [50 60]]\n",
      "array shape is: (3, 2)\n",
      "array length is: 3\n",
      "dimentions of array is:  2\n",
      "type of array is:  int32\n"
     ]
    }
   ],
   "source": [
    "# 2d array => list->list:\n",
    "a=np.array([[10,20],[30,40],[50,60]])\n",
    "print(a)\n",
    "print(\"array shape is:\",a.shape)\n",
    "print(\"array length is:\",len(a))\n",
    "print(\"dimentions of array is: \",a.ndim)\n",
    "print(\"type of array is: \",a.dtype)"
   ]
  },
  {
   "cell_type": "code",
   "execution_count": 26,
   "metadata": {},
   "outputs": [
    {
     "name": "stdout",
     "output_type": "stream",
     "text": [
      "[[10 20 45]\n",
      " [30 40 20]\n",
      " [50 60 70]]\n",
      "array shape is: (3, 3)\n",
      "array length is: 3\n",
      "dimentions of array is:  2\n",
      "type of array is:  int32\n"
     ]
    }
   ],
   "source": [
    "a=np.array([[10,20,45],[30,40,20],[50,60,70]])\n",
    "print(a)\n",
    "print(\"array shape is:\",a.shape)\n",
    "print(\"array length is:\",len(a))\n",
    "print(\"dimentions of array is: \",a.ndim)\n",
    "print(\"type of array is: \",a.dtype)"
   ]
  },
  {
   "cell_type": "code",
   "execution_count": 28,
   "metadata": {},
   "outputs": [
    {
     "name": "stdout",
     "output_type": "stream",
     "text": [
      "[[[10 20]\n",
      "  [30 40]]]\n",
      "array shape is: (1, 2, 2)\n",
      "array length is: 1\n",
      "dimentions of array is:  3\n",
      "type of array is:  int32\n"
     ]
    }
   ],
   "source": [
    "# 3d array => list->list->list\n",
    "a=np.array([[[10,20],[30,40]]])\n",
    "print(a)\n",
    "print(\"array shape is:\",a.shape)\n",
    "print(\"array length is:\",len(a))\n",
    "print(\"dimentions of array is: \",a.ndim)\n",
    "print(\"type of array is: \",a.dtype)"
   ]
  },
  {
   "cell_type": "code",
   "execution_count": 31,
   "metadata": {},
   "outputs": [],
   "source": [
    "# list\n",
    "l=range(100)"
   ]
  },
  {
   "cell_type": "code",
   "execution_count": 32,
   "metadata": {},
   "outputs": [
    {
     "data": {
      "text/plain": [
       "array([ 0,  1,  2,  3,  4,  5,  6,  7,  8,  9, 10, 11, 12, 13, 14, 15, 16,\n",
       "       17, 18, 19, 20, 21, 22, 23, 24, 25, 26, 27, 28, 29, 30, 31, 32, 33,\n",
       "       34, 35, 36, 37, 38, 39, 40, 41, 42, 43, 44, 45, 46, 47, 48, 49, 50,\n",
       "       51, 52, 53, 54, 55, 56, 57, 58, 59, 60, 61, 62, 63, 64, 65, 66, 67,\n",
       "       68, 69, 70, 71, 72, 73, 74, 75, 76, 77, 78, 79, 80, 81, 82, 83, 84,\n",
       "       85, 86, 87, 88, 89, 90, 91, 92, 93, 94, 95, 96, 97, 98, 99])"
      ]
     },
     "execution_count": 32,
     "metadata": {},
     "output_type": "execute_result"
    }
   ],
   "source": [
    "# numpy\n",
    "a=np.arange(100)\n",
    "a"
   ]
  },
  {
   "cell_type": "code",
   "execution_count": 33,
   "metadata": {},
   "outputs": [
    {
     "name": "stdout",
     "output_type": "stream",
     "text": [
      "646 µs ± 110 µs per loop (mean ± std. dev. of 7 runs, 1000 loops each)\n"
     ]
    }
   ],
   "source": [
    "# normal list\n",
    "l=range(1000)\n",
    "%timeit [i**2 for i in l]"
   ]
  },
  {
   "cell_type": "code",
   "execution_count": 34,
   "metadata": {},
   "outputs": [
    {
     "name": "stdout",
     "output_type": "stream",
     "text": [
      "506 µs ± 10.1 µs per loop (mean ± std. dev. of 7 runs, 1000 loops each)\n"
     ]
    }
   ],
   "source": [
    "l=np.arange(1000)\n",
    "%timeit [i**2 for i in l]"
   ]
  },
  {
   "cell_type": "markdown",
   "metadata": {},
   "source": [
    "### Type conversions:"
   ]
  },
  {
   "cell_type": "code",
   "execution_count": 37,
   "metadata": {},
   "outputs": [
    {
     "name": "stdout",
     "output_type": "stream",
     "text": [
      "[10. 20. 30. 40. 50.]\n",
      "array shape is: (5,)\n",
      "array length is: 5\n",
      "dimentions of array is:  1\n",
      "type of array is:  float64\n"
     ]
    }
   ],
   "source": [
    "a=np.array([10,20,30,40,50],dtype=float)\n",
    "print(a)\n",
    "print(\"array shape is:\",a.shape)\n",
    "print(\"array length is:\",len(a))\n",
    "print(\"dimentions of array is: \",a.ndim)\n",
    "print(\"type of array is: \",a.dtype)"
   ]
  },
  {
   "cell_type": "code",
   "execution_count": 38,
   "metadata": {},
   "outputs": [
    {
     "name": "stdout",
     "output_type": "stream",
     "text": [
      "[10 20 30 40 50]\n",
      "array shape is: (5,)\n",
      "array length is: 5\n",
      "dimentions of array is:  1\n",
      "type of array is:  int32\n"
     ]
    }
   ],
   "source": [
    "a=np.array([10.33,20.2,30.4,40.9,50.77],dtype=int)\n",
    "print(a)\n",
    "print(\"array shape is:\",a.shape)\n",
    "print(\"array length is:\",len(a))\n",
    "print(\"dimentions of array is: \",a.ndim)\n",
    "print(\"type of array is: \",a.dtype)"
   ]
  },
  {
   "cell_type": "code",
   "execution_count": 39,
   "metadata": {},
   "outputs": [
    {
     "name": "stdout",
     "output_type": "stream",
     "text": [
      "[10.+0.j 20.+0.j 30.+0.j 40.+0.j]\n",
      "array shape is: (4,)\n",
      "array length is: 4\n",
      "dimentions of array is:  1\n",
      "type of array is:  complex128\n"
     ]
    }
   ],
   "source": [
    "a=np.array([10,20,30,40],dtype=complex)\n",
    "print(a)\n",
    "print(\"array shape is:\",a.shape)\n",
    "print(\"array length is:\",len(a))\n",
    "print(\"dimentions of array is: \",a.ndim)\n",
    "print(\"type of array is: \",a.dtype)"
   ]
  },
  {
   "cell_type": "code",
   "execution_count": 40,
   "metadata": {},
   "outputs": [
    {
     "name": "stdout",
     "output_type": "stream",
     "text": [
      "[ True  True  True  True]\n",
      "array shape is: (4,)\n",
      "array length is: 4\n",
      "dimentions of array is:  1\n",
      "type of array is:  bool\n"
     ]
    }
   ],
   "source": [
    "a=np.array([10,20,30,40],dtype=bool)\n",
    "print(a)\n",
    "print(\"array shape is:\",a.shape)\n",
    "print(\"array length is:\",len(a))\n",
    "print(\"dimentions of array is: \",a.ndim)\n",
    "print(\"type of array is: \",a.dtype)"
   ]
  },
  {
   "cell_type": "code",
   "execution_count": 41,
   "metadata": {},
   "outputs": [
    {
     "name": "stdout",
     "output_type": "stream",
     "text": [
      "[ True  True  True  True False False  True  True  True]\n",
      "array shape is: (9,)\n",
      "array length is: 9\n",
      "dimentions of array is:  1\n",
      "type of array is:  bool\n"
     ]
    }
   ],
   "source": [
    "a=np.array([10,20,30,40,0,0,-23,-56,560],dtype=bool)\n",
    "print(a)\n",
    "print(\"array shape is:\",a.shape)\n",
    "print(\"array length is:\",len(a))\n",
    "print(\"dimentions of array is: \",a.ndim)\n",
    "print(\"type of array is: \",a.dtype)"
   ]
  },
  {
   "cell_type": "code",
   "execution_count": 43,
   "metadata": {},
   "outputs": [
    {
     "name": "stdout",
     "output_type": "stream",
     "text": [
      "[1 0 1]\n",
      "array shape is: (3,)\n",
      "array length is: 3\n",
      "dimentions of array is:  1\n",
      "type of array is:  int32\n"
     ]
    }
   ],
   "source": [
    "a=np.array([True,False,True],dtype=int)\n",
    "print(a)\n",
    "print(\"array shape is:\",a.shape)\n",
    "print(\"array length is:\",len(a))\n",
    "print(\"dimentions of array is: \",a.ndim)\n",
    "print(\"type of array is: \",a.dtype)"
   ]
  },
  {
   "cell_type": "code",
   "execution_count": 44,
   "metadata": {},
   "outputs": [
    {
     "name": "stdout",
     "output_type": "stream",
     "text": [
      "[ True  True  True  True False False  True  True  True  True]\n",
      "array shape is: (10,)\n",
      "array length is: 10\n",
      "dimentions of array is:  1\n",
      "type of array is:  bool\n"
     ]
    }
   ],
   "source": [
    "a=np.array([10,20,30,40,0,0,-23,-56,560,\"string\"],dtype=bool)\n",
    "print(a)\n",
    "print(\"array shape is:\",a.shape)\n",
    "print(\"array length is:\",len(a))\n",
    "print(\"dimentions of array is: \",a.ndim)\n",
    "print(\"type of array is: \",a.dtype)"
   ]
  },
  {
   "cell_type": "code",
   "execution_count": 53,
   "metadata": {},
   "outputs": [
    {
     "name": "stdout",
     "output_type": "stream",
     "text": [
      "[ True  True  True  True  True  True]\n",
      "array shape is: (6,)\n",
      "array length is: 6\n",
      "dimentions of array is:  1\n",
      "type of array is:  bool\n"
     ]
    }
   ],
   "source": [
    "a=np.array([\"a\",\"b\",\"c\",\"string\",\"0\",\"9\"],dtype=bool)\n",
    "print(a)\n",
    "print(\"array shape is:\",a.shape)\n",
    "print(\"array length is:\",len(a))\n",
    "print(\"dimentions of array is: \",a.ndim)\n",
    "print(\"type of array is: \",a.dtype)"
   ]
  },
  {
   "cell_type": "markdown",
   "metadata": {},
   "source": [
    "### Change the dimentions"
   ]
  },
  {
   "cell_type": "code",
   "execution_count": 45,
   "metadata": {},
   "outputs": [
    {
     "name": "stdout",
     "output_type": "stream",
     "text": [
      "[10 20 30 40]\n",
      "dimentions of array is:  1\n"
     ]
    }
   ],
   "source": [
    "a=np.array([10,20,30,40])\n",
    "print(a)\n",
    "print(\"dimentions of array is: \",a.ndim)"
   ]
  },
  {
   "cell_type": "code",
   "execution_count": 46,
   "metadata": {},
   "outputs": [
    {
     "name": "stdout",
     "output_type": "stream",
     "text": [
      "[[10 20 30 40]]\n",
      "dimentions of array is:  2\n"
     ]
    }
   ],
   "source": [
    "a=np.array([10,20,30,40],ndmin=2)\n",
    "print(a)\n",
    "print(\"dimentions of array is: \",a.ndim)"
   ]
  },
  {
   "cell_type": "code",
   "execution_count": 49,
   "metadata": {},
   "outputs": [
    {
     "name": "stdout",
     "output_type": "stream",
     "text": [
      "[[[10 20 30 40]]]\n",
      "dimentions of array is:  3\n"
     ]
    }
   ],
   "source": [
    "a=np.array([10,20,30,40],ndmin=3)\n",
    "print(a)\n",
    "print(\"dimentions of array is: \",a.ndim)"
   ]
  },
  {
   "cell_type": "code",
   "execution_count": null,
   "metadata": {},
   "outputs": [],
   "source": []
  }
 ],
 "metadata": {
  "kernelspec": {
   "display_name": "Python 3",
   "language": "python",
   "name": "python3"
  },
  "language_info": {
   "codemirror_mode": {
    "name": "ipython",
    "version": 3
   },
   "file_extension": ".py",
   "mimetype": "text/x-python",
   "name": "python",
   "nbconvert_exporter": "python",
   "pygments_lexer": "ipython3",
   "version": "3.7.3"
  }
 },
 "nbformat": 4,
 "nbformat_minor": 2
}
